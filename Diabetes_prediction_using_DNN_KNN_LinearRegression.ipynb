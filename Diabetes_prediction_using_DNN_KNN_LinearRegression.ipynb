{
 "cells": [
  {
   "cell_type": "markdown",
   "metadata": {},
   "source": [
    "# Classification Linear_Classifier and KNN using Tensorflow and Sklearn Respectively"
   ]
  },
  {
   "cell_type": "code",
   "execution_count": 1,
   "metadata": {},
   "outputs": [],
   "source": [
    "#importing the essentials\n",
    "import tensorflow as tf\n",
    "import numpy as np\n",
    "import pandas as pd\n",
    "import matplotlib.pyplot as plt\n",
    "# plt.style.use(\"ggplot\")"
   ]
  },
  {
   "cell_type": "code",
   "execution_count": 2,
   "metadata": {},
   "outputs": [
    {
     "name": "stdout",
     "output_type": "stream",
     "text": [
      "   Pregnancies  Glucose  BloodPressure  SkinThickness  Insulin   BMI  \\\n",
      "0            6      148             72             35        0  33.6   \n",
      "1            1       85             66             29        0  26.6   \n",
      "2            8      183             64              0        0  23.3   \n",
      "3            1       89             66             23       94  28.1   \n",
      "4            0      137             40             35      168  43.1   \n",
      "\n",
      "   DiabetesPedigreeFunction  Age  Outcome  \n",
      "0                     0.627   50        1  \n",
      "1                     0.351   31        0  \n",
      "2                     0.672   32        1  \n",
      "3                     0.167   21        0  \n",
      "4                     2.288   33        1  \n"
     ]
    }
   ],
   "source": [
    "#loading the dataset\n",
    "df = pd.read_csv(r\"D:\\AI-Datasets\\knn-linear_classifier\\diabetes.csv\")\n",
    "print(df.head())"
   ]
  },
  {
   "cell_type": "code",
   "execution_count": 3,
   "metadata": {},
   "outputs": [
    {
     "name": "stdout",
     "output_type": "stream",
     "text": [
      "<class 'pandas.core.frame.DataFrame'>\n",
      "RangeIndex: 768 entries, 0 to 767\n",
      "Data columns (total 9 columns):\n",
      "Pregnancies                 768 non-null int64\n",
      "Glucose                     768 non-null int64\n",
      "BloodPressure               768 non-null int64\n",
      "SkinThickness               768 non-null int64\n",
      "Insulin                     768 non-null int64\n",
      "BMI                         768 non-null float64\n",
      "DiabetesPedigreeFunction    768 non-null float64\n",
      "Age                         768 non-null int64\n",
      "Outcome                     768 non-null int64\n",
      "dtypes: float64(2), int64(7)\n",
      "memory usage: 54.1 KB\n"
     ]
    },
    {
     "data": {
      "text/html": [
       "<div>\n",
       "<style scoped>\n",
       "    .dataframe tbody tr th:only-of-type {\n",
       "        vertical-align: middle;\n",
       "    }\n",
       "\n",
       "    .dataframe tbody tr th {\n",
       "        vertical-align: top;\n",
       "    }\n",
       "\n",
       "    .dataframe thead th {\n",
       "        text-align: right;\n",
       "    }\n",
       "</style>\n",
       "<table border=\"1\" class=\"dataframe\">\n",
       "  <thead>\n",
       "    <tr style=\"text-align: right;\">\n",
       "      <th></th>\n",
       "      <th>Pregnancies</th>\n",
       "      <th>Glucose</th>\n",
       "      <th>BloodPressure</th>\n",
       "      <th>SkinThickness</th>\n",
       "      <th>Insulin</th>\n",
       "      <th>BMI</th>\n",
       "      <th>DiabetesPedigreeFunction</th>\n",
       "      <th>Age</th>\n",
       "      <th>Outcome</th>\n",
       "    </tr>\n",
       "  </thead>\n",
       "  <tbody>\n",
       "    <tr>\n",
       "      <td>count</td>\n",
       "      <td>768.000000</td>\n",
       "      <td>768.000000</td>\n",
       "      <td>768.000000</td>\n",
       "      <td>768.000000</td>\n",
       "      <td>768.000000</td>\n",
       "      <td>768.000000</td>\n",
       "      <td>768.000000</td>\n",
       "      <td>768.000000</td>\n",
       "      <td>768.000000</td>\n",
       "    </tr>\n",
       "    <tr>\n",
       "      <td>mean</td>\n",
       "      <td>3.845052</td>\n",
       "      <td>120.894531</td>\n",
       "      <td>69.105469</td>\n",
       "      <td>20.536458</td>\n",
       "      <td>79.799479</td>\n",
       "      <td>31.992578</td>\n",
       "      <td>0.471876</td>\n",
       "      <td>33.240885</td>\n",
       "      <td>0.348958</td>\n",
       "    </tr>\n",
       "    <tr>\n",
       "      <td>std</td>\n",
       "      <td>3.369578</td>\n",
       "      <td>31.972618</td>\n",
       "      <td>19.355807</td>\n",
       "      <td>15.952218</td>\n",
       "      <td>115.244002</td>\n",
       "      <td>7.884160</td>\n",
       "      <td>0.331329</td>\n",
       "      <td>11.760232</td>\n",
       "      <td>0.476951</td>\n",
       "    </tr>\n",
       "    <tr>\n",
       "      <td>min</td>\n",
       "      <td>0.000000</td>\n",
       "      <td>0.000000</td>\n",
       "      <td>0.000000</td>\n",
       "      <td>0.000000</td>\n",
       "      <td>0.000000</td>\n",
       "      <td>0.000000</td>\n",
       "      <td>0.078000</td>\n",
       "      <td>21.000000</td>\n",
       "      <td>0.000000</td>\n",
       "    </tr>\n",
       "    <tr>\n",
       "      <td>25%</td>\n",
       "      <td>1.000000</td>\n",
       "      <td>99.000000</td>\n",
       "      <td>62.000000</td>\n",
       "      <td>0.000000</td>\n",
       "      <td>0.000000</td>\n",
       "      <td>27.300000</td>\n",
       "      <td>0.243750</td>\n",
       "      <td>24.000000</td>\n",
       "      <td>0.000000</td>\n",
       "    </tr>\n",
       "    <tr>\n",
       "      <td>50%</td>\n",
       "      <td>3.000000</td>\n",
       "      <td>117.000000</td>\n",
       "      <td>72.000000</td>\n",
       "      <td>23.000000</td>\n",
       "      <td>30.500000</td>\n",
       "      <td>32.000000</td>\n",
       "      <td>0.372500</td>\n",
       "      <td>29.000000</td>\n",
       "      <td>0.000000</td>\n",
       "    </tr>\n",
       "    <tr>\n",
       "      <td>75%</td>\n",
       "      <td>6.000000</td>\n",
       "      <td>140.250000</td>\n",
       "      <td>80.000000</td>\n",
       "      <td>32.000000</td>\n",
       "      <td>127.250000</td>\n",
       "      <td>36.600000</td>\n",
       "      <td>0.626250</td>\n",
       "      <td>41.000000</td>\n",
       "      <td>1.000000</td>\n",
       "    </tr>\n",
       "    <tr>\n",
       "      <td>max</td>\n",
       "      <td>17.000000</td>\n",
       "      <td>199.000000</td>\n",
       "      <td>122.000000</td>\n",
       "      <td>99.000000</td>\n",
       "      <td>846.000000</td>\n",
       "      <td>67.100000</td>\n",
       "      <td>2.420000</td>\n",
       "      <td>81.000000</td>\n",
       "      <td>1.000000</td>\n",
       "    </tr>\n",
       "  </tbody>\n",
       "</table>\n",
       "</div>"
      ],
      "text/plain": [
       "       Pregnancies     Glucose  BloodPressure  SkinThickness     Insulin  \\\n",
       "count   768.000000  768.000000     768.000000     768.000000  768.000000   \n",
       "mean      3.845052  120.894531      69.105469      20.536458   79.799479   \n",
       "std       3.369578   31.972618      19.355807      15.952218  115.244002   \n",
       "min       0.000000    0.000000       0.000000       0.000000    0.000000   \n",
       "25%       1.000000   99.000000      62.000000       0.000000    0.000000   \n",
       "50%       3.000000  117.000000      72.000000      23.000000   30.500000   \n",
       "75%       6.000000  140.250000      80.000000      32.000000  127.250000   \n",
       "max      17.000000  199.000000     122.000000      99.000000  846.000000   \n",
       "\n",
       "              BMI  DiabetesPedigreeFunction         Age     Outcome  \n",
       "count  768.000000                768.000000  768.000000  768.000000  \n",
       "mean    31.992578                  0.471876   33.240885    0.348958  \n",
       "std      7.884160                  0.331329   11.760232    0.476951  \n",
       "min      0.000000                  0.078000   21.000000    0.000000  \n",
       "25%     27.300000                  0.243750   24.000000    0.000000  \n",
       "50%     32.000000                  0.372500   29.000000    0.000000  \n",
       "75%     36.600000                  0.626250   41.000000    1.000000  \n",
       "max     67.100000                  2.420000   81.000000    1.000000  "
      ]
     },
     "execution_count": 3,
     "metadata": {},
     "output_type": "execute_result"
    }
   ],
   "source": [
    "#cleaning the data\n",
    "\n",
    "#finding Nan or impossible values\n",
    "df.info()\n",
    "df.describe()"
   ]
  },
  {
   "cell_type": "code",
   "execution_count": 4,
   "metadata": {},
   "outputs": [
    {
     "data": {
      "text/plain": [
       "Pregnancies                   0\n",
       "Glucose                       5\n",
       "BloodPressure                35\n",
       "SkinThickness               227\n",
       "Insulin                     374\n",
       "BMI                          11\n",
       "DiabetesPedigreeFunction      0\n",
       "Age                           0\n",
       "Outcome                       0\n",
       "dtype: int64"
      ]
     },
     "execution_count": 4,
     "metadata": {},
     "output_type": "execute_result"
    }
   ],
   "source": [
    "df_copy = df\n",
    "unclean_features = [\"Glucose\",\"BloodPressure\",\"SkinThickness\",\"Insulin\",\"BMI\",\"Age\"]\n",
    "df_copy[unclean_features] = df[unclean_features].replace(0,np.NaN)\n",
    "df_copy.isnull().sum()"
   ]
  },
  {
   "cell_type": "code",
   "execution_count": 5,
   "metadata": {},
   "outputs": [
    {
     "data": {
      "image/png": "[encoded data removed]",
      "text/plain": [
       "<Figure size 1440x1440 with 9 Axes>"
      ]
     },
     "metadata": {
      "needs_background": "light"
     },
     "output_type": "display_data"
    }
   ],
   "source": [
    "p = df.hist(figsize=(20,20))"
   ]
  },
  {
   "cell_type": "code",
   "execution_count": 6,
   "metadata": {},
   "outputs": [],
   "source": [
    "for i in unclean_features:\n",
    "    df_copy[i].fillna(df[i].mean(),inplace=True)"
   ]
  },
  {
   "cell_type": "code",
   "execution_count": 7,
   "metadata": {},
   "outputs": [
    {
     "data": {
      "text/plain": [
       "<matplotlib.axes._subplots.AxesSubplot at 0x2326ed16e48>"
      ]
     },
     "execution_count": 7,
     "metadata": {},
     "output_type": "execute_result"
    },
    {
     "data": {
      "image/png": "[encoded data removed]",
      "text/plain": [
       "<Figure size 432x288 with 1 Axes>"
      ]
     },
     "metadata": {
      "needs_background": "light"
     },
     "output_type": "display_data"
    }
   ],
   "source": [
    "#observing the data\n",
    "df.shape #outputs (768,9)\n",
    "df[\"Outcome\"].value_counts().plot(kind=\"barh\")"
   ]
  },
  {
   "cell_type": "code",
   "execution_count": 8,
   "metadata": {},
   "outputs": [
    {
     "data": {
      "text/html": [
       "<div>\n",
       "<style scoped>\n",
       "    .dataframe tbody tr th:only-of-type {\n",
       "        vertical-align: middle;\n",
       "    }\n",
       "\n",
       "    .dataframe tbody tr th {\n",
       "        vertical-align: top;\n",
       "    }\n",
       "\n",
       "    .dataframe thead th {\n",
       "        text-align: right;\n",
       "    }\n",
       "</style>\n",
       "<table border=\"1\" class=\"dataframe\">\n",
       "  <thead>\n",
       "    <tr style=\"text-align: right;\">\n",
       "      <th></th>\n",
       "      <th>Pregnancies</th>\n",
       "      <th>Glucose</th>\n",
       "      <th>BloodPressure</th>\n",
       "      <th>SkinThickness</th>\n",
       "      <th>Insulin</th>\n",
       "      <th>BMI</th>\n",
       "      <th>DiabetesPedigreeFunction</th>\n",
       "      <th>Age</th>\n",
       "      <th>Outcome</th>\n",
       "    </tr>\n",
       "  </thead>\n",
       "  <tbody>\n",
       "    <tr>\n",
       "      <td>0</td>\n",
       "      <td>6</td>\n",
       "      <td>148.0</td>\n",
       "      <td>72.0</td>\n",
       "      <td>35.00000</td>\n",
       "      <td>155.548223</td>\n",
       "      <td>33.6</td>\n",
       "      <td>0.627</td>\n",
       "      <td>50</td>\n",
       "      <td>1</td>\n",
       "    </tr>\n",
       "    <tr>\n",
       "      <td>1</td>\n",
       "      <td>1</td>\n",
       "      <td>85.0</td>\n",
       "      <td>66.0</td>\n",
       "      <td>29.00000</td>\n",
       "      <td>155.548223</td>\n",
       "      <td>26.6</td>\n",
       "      <td>0.351</td>\n",
       "      <td>31</td>\n",
       "      <td>0</td>\n",
       "    </tr>\n",
       "    <tr>\n",
       "      <td>2</td>\n",
       "      <td>8</td>\n",
       "      <td>183.0</td>\n",
       "      <td>64.0</td>\n",
       "      <td>29.15342</td>\n",
       "      <td>155.548223</td>\n",
       "      <td>23.3</td>\n",
       "      <td>0.672</td>\n",
       "      <td>32</td>\n",
       "      <td>1</td>\n",
       "    </tr>\n",
       "    <tr>\n",
       "      <td>3</td>\n",
       "      <td>1</td>\n",
       "      <td>89.0</td>\n",
       "      <td>66.0</td>\n",
       "      <td>23.00000</td>\n",
       "      <td>94.000000</td>\n",
       "      <td>28.1</td>\n",
       "      <td>0.167</td>\n",
       "      <td>21</td>\n",
       "      <td>0</td>\n",
       "    </tr>\n",
       "    <tr>\n",
       "      <td>4</td>\n",
       "      <td>0</td>\n",
       "      <td>137.0</td>\n",
       "      <td>40.0</td>\n",
       "      <td>35.00000</td>\n",
       "      <td>168.000000</td>\n",
       "      <td>43.1</td>\n",
       "      <td>2.288</td>\n",
       "      <td>33</td>\n",
       "      <td>1</td>\n",
       "    </tr>\n",
       "  </tbody>\n",
       "</table>\n",
       "</div>"
      ],
      "text/plain": [
       "   Pregnancies  Glucose  BloodPressure  SkinThickness     Insulin   BMI  \\\n",
       "0            6    148.0           72.0       35.00000  155.548223  33.6   \n",
       "1            1     85.0           66.0       29.00000  155.548223  26.6   \n",
       "2            8    183.0           64.0       29.15342  155.548223  23.3   \n",
       "3            1     89.0           66.0       23.00000   94.000000  28.1   \n",
       "4            0    137.0           40.0       35.00000  168.000000  43.1   \n",
       "\n",
       "   DiabetesPedigreeFunction  Age  Outcome  \n",
       "0                     0.627   50        1  \n",
       "1                     0.351   31        0  \n",
       "2                     0.672   32        1  \n",
       "3                     0.167   21        0  \n",
       "4                     2.288   33        1  "
      ]
     },
     "execution_count": 8,
     "metadata": {},
     "output_type": "execute_result"
    }
   ],
   "source": [
    "#Scaling the data\n",
    "from sklearn.preprocessing import StandardScaler\n",
    "scaler = StandardScaler()\n",
    "df_features = pd.DataFrame(scaler.fit_transform(df_copy.drop([\"Outcome\"],axis=1)),columns=['Pregnancies', 'Glucose', 'BloodPressure', 'SkinThickness', 'Insulin',\n",
    "       'BMI', 'DiabetesPedigreeFunction', 'Age'])\n",
    "df_copy.head()"
   ]
  },
  {
   "cell_type": "code",
   "execution_count": 9,
   "metadata": {},
   "outputs": [],
   "source": [
    "df_features.head()\n",
    "df_labels = df_copy[\"Outcome\"]"
   ]
  },
  {
   "cell_type": "code",
   "execution_count": 88,
   "metadata": {},
   "outputs": [
    {
     "name": "stdout",
     "output_type": "stream",
     "text": [
      "[1.0, 0.8437047756874095, 0.8465991316931982, 0.8248914616497829, 0.8306801736613604, 0.8002894356005789, 0.804630969609262, 0.7930535455861071, 0.8031837916063675, 0.7945007235890015, 0.804630969609262, 0.7930535455861071, 0.7988422575976846, 0.784370477568741]\n",
      "[0.7272727272727273, 0.7272727272727273, 0.7402597402597403, 0.7662337662337663, 0.8181818181818182, 0.8051948051948052, 0.7922077922077922, 0.7922077922077922, 0.8051948051948052, 0.8051948051948052, 0.7662337662337663, 0.7662337662337663, 0.7662337662337663, 0.7792207792207793]\n"
     ]
    }
   ],
   "source": [
    "#Training the data\n",
    "\n",
    "from sklearn.model_selection import train_test_split\n",
    "from sklearn.neighbors import KNeighborsClassifier\n",
    "\n",
    "test_score = []\n",
    "train_score = []\n",
    "\n",
    "x_train,x_test,y_train,y_test = train_test_split(df_features,df_labels,test_size = 0.1,stratify=df_labels,random_state=42)\n",
    "for i in range(1,15):\n",
    "    knn = KNeighborsClassifier(i)\n",
    "    knn.fit(x_train,y_train)\n",
    "    train_score.append(knn.score(x_train,y_train))\n",
    "    test_score.append(knn.score(x_test,y_test))\n",
    "\n",
    "c = train_score.index(max(train_score))\n",
    "d = test_score.index(max(test_score))\n",
    "print(train_score)\n",
    "print(test_score)"
   ]
  },
  {
   "cell_type": "code",
   "execution_count": 89,
   "metadata": {},
   "outputs": [
    {
     "name": "stdout",
     "output_type": "stream",
     "text": [
      "[0 1 1 0 0 0 1 1 0 0 0 0 0 0 0 1 0 1 0 0 0 0 0 0 0 0 0 0 0 0 1 0 0 0 1 0 1\n",
      " 1 0 0 0 0 1 0 0 0 0 1 1 0 0 0 1 0 0 1 1 0 1 0 0 1 0 1 1 0 1 0 0 1 0 0 0 0\n",
      " 0 0 0]\n",
      "158    0\n",
      "484    1\n",
      "712    1\n",
      "535    1\n",
      "205    0\n",
      "      ..\n",
      "78     1\n",
      "767    0\n",
      "410    0\n",
      "554    0\n",
      "81     0\n",
      "Name: Outcome, Length: 77, dtype: int64\n",
      "0.7792207792207793\n"
     ]
    }
   ],
   "source": [
    "#Predicting the data\n",
    "\n",
    "y_pred = knn.predict(x_test)\n",
    "print(y_pred)\n",
    "print(y_test)\n",
    "from sklearn.metrics import accuracy_score\n",
    "score = accuracy_score(y_pred,y_test)\n",
    "print(score)"
   ]
  },
  {
   "cell_type": "code",
   "execution_count": 90,
   "metadata": {},
   "outputs": [
    {
     "data": {
      "text/plain": [
       "<matplotlib.axes._subplots.AxesSubplot at 0x23277a960c8>"
      ]
     },
     "execution_count": 90,
     "metadata": {},
     "output_type": "execute_result"
    },
    {
     "data": {
      "image/png": "[encoded data removed]",
      "text/plain": [
       "<Figure size 432x288 with 2 Axes>"
      ]
     },
     "metadata": {
      "needs_background": "light"
     },
     "output_type": "display_data"
    }
   ],
   "source": [
    "#confusion matrix\n",
    "\n",
    "from sklearn.metrics import confusion_matrix\n",
    "import seaborn as sns\n",
    "matrix = confusion_matrix(y_test,y_pred)\n",
    "sns.heatmap(pd.DataFrame(matrix),fmt=\"g\",annot=True,cmap=\"YlGnBu\")\n"
   ]
  },
  {
   "cell_type": "code",
   "execution_count": 92,
   "metadata": {},
   "outputs": [],
   "source": [
    "# from tensorflow.v2.compat.feature_column as fc\n",
    "feature_columns = []\n",
    "numerical_column = ['Pregnancies', 'Glucose', 'BloodPressure', 'SkinThickness', 'Insulin',\n",
    "       'BMI', 'DiabetesPedigreeFunction',\"Age\"]\n",
    "for i in numerical_column:\n",
    "    feature_columns.append(tf.feature_column.numeric_column(i,dtype=tf.float32))"
   ]
  },
  {
   "cell_type": "code",
   "execution_count": 93,
   "metadata": {},
   "outputs": [],
   "source": [
    "def make_fn(features,labels,shuffle=True,batch_size=2,epochs=10):\n",
    "    def input_fn():\n",
    "        ds = tf.data.Dataset.from_tensor_slices((dict(features),labels))\n",
    "        if shuffle:\n",
    "            ds.shuffle(1000)\n",
    "        ds = ds.batch(batch_size).repeat(epochs)\n",
    "        return ds\n",
    "    return input_fn\n",
    "\n",
    "train_input_fn = make_fn(x_train,y_train)\n",
    "test_input_fn = make_fn(x_test,y_test)\n",
    "# x_train.info()"
   ]
  },
  {
   "cell_type": "code",
   "execution_count": 94,
   "metadata": {},
   "outputs": [
    {
     "name": "stdout",
     "output_type": "stream",
     "text": [
      "INFO:tensorflow:Using default config.\n",
      "WARNING:tensorflow:Using temporary folder as model directory: C:\\Users\\admin\\AppData\\Local\\Temp\\tmpadrwt9v_\n",
      "INFO:tensorflow:Using config: {'_model_dir': 'C:\\\\Users\\\\admin\\\\AppData\\\\Local\\\\Temp\\\\tmpadrwt9v_', '_tf_random_seed': None, '_save_summary_steps': 100, '_save_checkpoints_steps': None, '_save_checkpoints_secs': 600, '_session_config': allow_soft_placement: true\n",
      "graph_options {\n",
      "  rewrite_options {\n",
      "    meta_optimizer_iterations: ONE\n",
      "  }\n",
      "}\n",
      ", '_keep_checkpoint_max': 5, '_keep_checkpoint_every_n_hours': 10000, '_log_step_count_steps': 100, '_train_distribute': None, '_device_fn': None, '_protocol': None, '_eval_distribute': None, '_experimental_distribute': None, '_experimental_max_worker_delay_secs': None, '_session_creation_timeout_secs': 7200, '_service': None, '_cluster_spec': <tensorflow.python.training.server_lib.ClusterSpec object at 0x0000023277B70F48>, '_task_type': 'worker', '_task_id': 0, '_global_id_in_cluster': 0, '_master': '', '_evaluation_master': '', '_is_chief': True, '_num_ps_replicas': 0, '_num_worker_replicas': 1}\n"
     ]
    }
   ],
   "source": [
    "linear_classifier = tf.estimator.LinearClassifier(feature_columns = feature_columns)\n"
   ]
  },
  {
   "cell_type": "code",
   "execution_count": 95,
   "metadata": {},
   "outputs": [
    {
     "name": "stdout",
     "output_type": "stream",
     "text": [
      "INFO:tensorflow:Calling model_fn.\n",
      "WARNING:tensorflow:Layer linear/linear_model is casting an input tensor from dtype float64 to the layer's dtype of float32, which is new behavior in TensorFlow 2.  The layer has dtype float32 because it's dtype defaults to floatx.\n",
      "\n",
      "If you intended to run this layer in float32, you can safely ignore this warning. If in doubt, this warning is likely only an issue if you are porting a TensorFlow 1.X model to TensorFlow 2.\n",
      "\n",
      "To change all layers to have dtype float64 by default, call `tf.keras.backend.set_floatx('float64')`. To change just this layer, pass dtype='float64' to the layer constructor. If you are the author of this layer, you can disable autocasting by passing autocast=False to the base Layer constructor.\n",
      "\n",
      "INFO:tensorflow:Done calling model_fn.\n",
      "INFO:tensorflow:Create CheckpointSaverHook.\n",
      "INFO:tensorflow:Graph was finalized.\n",
      "INFO:tensorflow:Running local_init_op.\n",
      "INFO:tensorflow:Done running local_init_op.\n",
      "INFO:tensorflow:Saving checkpoints for 0 into C:\\Users\\admin\\AppData\\Local\\Temp\\tmpadrwt9v_\\model.ckpt.\n",
      "INFO:tensorflow:loss = 0.6931472, step = 0\n",
      "INFO:tensorflow:global_step/sec: 590.834\n",
      "INFO:tensorflow:loss = 1.1870085, step = 100 (0.171 sec)\n",
      "INFO:tensorflow:global_step/sec: 1205.63\n",
      "INFO:tensorflow:loss = 0.09014262, step = 200 (0.083 sec)\n",
      "INFO:tensorflow:global_step/sec: 1285.47\n",
      "INFO:tensorflow:loss = 0.45511213, step = 300 (0.078 sec)\n",
      "INFO:tensorflow:global_step/sec: 996.731\n",
      "INFO:tensorflow:loss = 0.38627207, step = 400 (0.100 sec)\n",
      "INFO:tensorflow:global_step/sec: 1183.87\n",
      "INFO:tensorflow:loss = 0.14443725, step = 500 (0.085 sec)\n",
      "INFO:tensorflow:global_step/sec: 1230.82\n",
      "INFO:tensorflow:loss = 0.34448382, step = 600 (0.080 sec)\n",
      "INFO:tensorflow:global_step/sec: 1237.87\n",
      "INFO:tensorflow:loss = 0.7491319, step = 700 (0.081 sec)\n",
      "INFO:tensorflow:global_step/sec: 1319.3\n",
      "INFO:tensorflow:loss = 0.07665564, step = 800 (0.077 sec)\n",
      "INFO:tensorflow:global_step/sec: 1354.97\n",
      "INFO:tensorflow:loss = 0.10090625, step = 900 (0.073 sec)\n",
      "INFO:tensorflow:global_step/sec: 1319.3\n",
      "INFO:tensorflow:loss = 0.6235467, step = 1000 (0.076 sec)\n",
      "INFO:tensorflow:global_step/sec: 1373.54\n",
      "INFO:tensorflow:loss = 0.115059644, step = 1100 (0.074 sec)\n",
      "INFO:tensorflow:global_step/sec: 1302.15\n",
      "INFO:tensorflow:loss = 0.8449927, step = 1200 (0.077 sec)\n",
      "INFO:tensorflow:global_step/sec: 1302.17\n",
      "INFO:tensorflow:loss = 0.38274577, step = 1300 (0.076 sec)\n",
      "INFO:tensorflow:global_step/sec: 1302.18\n",
      "INFO:tensorflow:loss = 0.85075176, step = 1400 (0.077 sec)\n",
      "INFO:tensorflow:global_step/sec: 1373.53\n",
      "INFO:tensorflow:loss = 0.3855868, step = 1500 (0.073 sec)\n",
      "INFO:tensorflow:global_step/sec: 1319.24\n",
      "INFO:tensorflow:loss = 0.36238235, step = 1600 (0.076 sec)\n",
      "INFO:tensorflow:global_step/sec: 1373.59\n",
      "INFO:tensorflow:loss = 0.31483942, step = 1700 (0.073 sec)\n",
      "INFO:tensorflow:global_step/sec: 1319.3\n",
      "INFO:tensorflow:loss = 0.45294085, step = 1800 (0.077 sec)\n",
      "INFO:tensorflow:global_step/sec: 1373.53\n",
      "INFO:tensorflow:loss = 0.13394256, step = 1900 (0.073 sec)\n",
      "INFO:tensorflow:global_step/sec: 1302.17\n",
      "INFO:tensorflow:loss = 0.5979351, step = 2000 (0.076 sec)\n",
      "INFO:tensorflow:global_step/sec: 1319.29\n",
      "INFO:tensorflow:loss = 0.2595665, step = 2100 (0.077 sec)\n",
      "INFO:tensorflow:global_step/sec: 1227.4\n",
      "INFO:tensorflow:loss = 0.13276437, step = 2200 (0.082 sec)\n",
      "INFO:tensorflow:global_step/sec: 1357.75\n",
      "INFO:tensorflow:loss = 0.04204757, step = 2300 (0.074 sec)\n",
      "INFO:tensorflow:global_step/sec: 1503.29\n",
      "INFO:tensorflow:loss = 0.26193312, step = 2400 (0.065 sec)\n",
      "INFO:tensorflow:global_step/sec: 1500.36\n",
      "INFO:tensorflow:loss = 0.67024994, step = 2500 (0.067 sec)\n",
      "INFO:tensorflow:global_step/sec: 1500.4\n",
      "INFO:tensorflow:loss = 0.57226473, step = 2600 (0.067 sec)\n",
      "INFO:tensorflow:global_step/sec: 1155.99\n",
      "INFO:tensorflow:loss = 0.16462797, step = 2700 (0.089 sec)\n",
      "INFO:tensorflow:global_step/sec: 1193.67\n",
      "INFO:tensorflow:loss = 0.16445574, step = 2800 (0.084 sec)\n",
      "INFO:tensorflow:global_step/sec: 1191\n",
      "INFO:tensorflow:loss = 0.8444146, step = 2900 (0.083 sec)\n",
      "INFO:tensorflow:global_step/sec: 1253.19\n",
      "INFO:tensorflow:loss = 0.3986819, step = 3000 (0.081 sec)\n",
      "INFO:tensorflow:global_step/sec: 1337.07\n",
      "INFO:tensorflow:loss = 0.31128493, step = 3100 (0.075 sec)\n",
      "INFO:tensorflow:global_step/sec: 1237.87\n",
      "INFO:tensorflow:loss = 0.06339152, step = 3200 (0.080 sec)\n",
      "INFO:tensorflow:global_step/sec: 1237.85\n",
      "INFO:tensorflow:loss = 0.35179394, step = 3300 (0.081 sec)\n",
      "INFO:tensorflow:global_step/sec: 1222.79\n",
      "INFO:tensorflow:loss = 0.6023549, step = 3400 (0.082 sec)\n",
      "INFO:tensorflow:Saving checkpoints for 3460 into C:\\Users\\admin\\AppData\\Local\\Temp\\tmpadrwt9v_\\model.ckpt.\n",
      "INFO:tensorflow:Loss for final step: 0.5513734.\n"
     ]
    },
    {
     "data": {
      "text/plain": [
       "<tensorflow_estimator.python.estimator.canned.linear.LinearClassifierV2 at 0x23277b70b48>"
      ]
     },
     "execution_count": 95,
     "metadata": {},
     "output_type": "execute_result"
    }
   ],
   "source": [
    "linear_classifier.train(train_input_fn)"
   ]
  },
  {
   "cell_type": "code",
   "execution_count": 96,
   "metadata": {},
   "outputs": [
    {
     "name": "stdout",
     "output_type": "stream",
     "text": [
      "INFO:tensorflow:Calling model_fn.\n",
      "WARNING:tensorflow:Layer linear/linear_model is casting an input tensor from dtype float64 to the layer's dtype of float32, which is new behavior in TensorFlow 2.  The layer has dtype float32 because it's dtype defaults to floatx.\n",
      "\n",
      "If you intended to run this layer in float32, you can safely ignore this warning. If in doubt, this warning is likely only an issue if you are porting a TensorFlow 1.X model to TensorFlow 2.\n",
      "\n",
      "To change all layers to have dtype float64 by default, call `tf.keras.backend.set_floatx('float64')`. To change just this layer, pass dtype='float64' to the layer constructor. If you are the author of this layer, you can disable autocasting by passing autocast=False to the base Layer constructor.\n",
      "\n",
      "INFO:tensorflow:Done calling model_fn.\n",
      "INFO:tensorflow:Starting evaluation at 2020-03-14T10:35:48Z\n",
      "INFO:tensorflow:Graph was finalized.\n",
      "INFO:tensorflow:Restoring parameters from C:\\Users\\admin\\AppData\\Local\\Temp\\tmpadrwt9v_\\model.ckpt-3460\n",
      "INFO:tensorflow:Running local_init_op.\n",
      "INFO:tensorflow:Done running local_init_op.\n",
      "INFO:tensorflow:Finished evaluation at 2020-03-14-10:35:49\n",
      "INFO:tensorflow:Saving dict for global step 3460: accuracy = 0.72727275, accuracy_baseline = 0.64935064, auc = 0.83185184, auc_precision_recall = 0.695201, average_loss = 0.49146447, global_step = 3460, label/mean = 0.35064936, loss = 0.48562297, precision = 0.61538464, prediction/mean = 0.36088467, recall = 0.5925926\n",
      "INFO:tensorflow:Saving 'checkpoint_path' summary for global step 3460: C:\\Users\\admin\\AppData\\Local\\Temp\\tmpadrwt9v_\\model.ckpt-3460\n"
     ]
    }
   ],
   "source": [
    "result = linear_classifier.evaluate(test_input_fn)"
   ]
  },
  {
   "cell_type": "code",
   "execution_count": 97,
   "metadata": {},
   "outputs": [
    {
     "name": "stdout",
     "output_type": "stream",
     "text": [
      "0.72727275\n"
     ]
    }
   ],
   "source": [
    "print(result[\"accuracy\"])"
   ]
  },
  {
   "cell_type": "markdown",
   "metadata": {},
   "source": [
    "# Using DNN to classify "
   ]
  },
  {
   "cell_type": "code",
   "execution_count": 100,
   "metadata": {},
   "outputs": [
    {
     "name": "stdout",
     "output_type": "stream",
     "text": [
      "INFO:tensorflow:Using default config.\n",
      "WARNING:tensorflow:Using temporary folder as model directory: C:\\Users\\admin\\AppData\\Local\\Temp\\tmp3tcvulcq\n",
      "INFO:tensorflow:Using config: {'_model_dir': 'C:\\\\Users\\\\admin\\\\AppData\\\\Local\\\\Temp\\\\tmp3tcvulcq', '_tf_random_seed': None, '_save_summary_steps': 100, '_save_checkpoints_steps': None, '_save_checkpoints_secs': 600, '_session_config': allow_soft_placement: true\n",
      "graph_options {\n",
      "  rewrite_options {\n",
      "    meta_optimizer_iterations: ONE\n",
      "  }\n",
      "}\n",
      ", '_keep_checkpoint_max': 5, '_keep_checkpoint_every_n_hours': 10000, '_log_step_count_steps': 100, '_train_distribute': None, '_device_fn': None, '_protocol': None, '_eval_distribute': None, '_experimental_distribute': None, '_experimental_max_worker_delay_secs': None, '_session_creation_timeout_secs': 7200, '_service': None, '_cluster_spec': <tensorflow.python.training.server_lib.ClusterSpec object at 0x000002327BEE1308>, '_task_type': 'worker', '_task_id': 0, '_global_id_in_cluster': 0, '_master': '', '_evaluation_master': '', '_is_chief': True, '_num_ps_replicas': 0, '_num_worker_replicas': 1}\n",
      "INFO:tensorflow:Calling model_fn.\n",
      "WARNING:tensorflow:Layer dnn is casting an input tensor from dtype float64 to the layer's dtype of float32, which is new behavior in TensorFlow 2.  The layer has dtype float32 because it's dtype defaults to floatx.\n",
      "\n",
      "If you intended to run this layer in float32, you can safely ignore this warning. If in doubt, this warning is likely only an issue if you are porting a TensorFlow 1.X model to TensorFlow 2.\n",
      "\n",
      "To change all layers to have dtype float64 by default, call `tf.keras.backend.set_floatx('float64')`. To change just this layer, pass dtype='float64' to the layer constructor. If you are the author of this layer, you can disable autocasting by passing autocast=False to the base Layer constructor.\n",
      "\n",
      "INFO:tensorflow:Done calling model_fn.\n",
      "INFO:tensorflow:Create CheckpointSaverHook.\n",
      "INFO:tensorflow:Graph was finalized.\n",
      "INFO:tensorflow:Running local_init_op.\n",
      "INFO:tensorflow:Done running local_init_op.\n",
      "INFO:tensorflow:Saving checkpoints for 0 into C:\\Users\\admin\\AppData\\Local\\Temp\\tmp3tcvulcq\\model.ckpt.\n",
      "INFO:tensorflow:loss = 1.0958366, step = 0\n",
      "INFO:tensorflow:global_step/sec: 593.588\n",
      "INFO:tensorflow:loss = 0.6319189, step = 100 (0.169 sec)\n",
      "INFO:tensorflow:global_step/sec: 1421.88\n",
      "INFO:tensorflow:loss = 0.4729279, step = 200 (0.085 sec)\n",
      "INFO:tensorflow:global_step/sec: 1200.89\n",
      "INFO:tensorflow:loss = 0.7182379, step = 300 (0.068 sec)\n",
      "INFO:tensorflow:global_step/sec: 1170.26\n",
      "INFO:tensorflow:loss = 0.5832912, step = 400 (0.086 sec)\n",
      "INFO:tensorflow:global_step/sec: 1323.02\n",
      "INFO:tensorflow:loss = 0.60792047, step = 500 (0.077 sec)\n",
      "INFO:tensorflow:global_step/sec: 1215.73\n",
      "INFO:tensorflow:loss = 0.69681215, step = 600 (0.082 sec)\n",
      "INFO:tensorflow:global_step/sec: 1208.05\n",
      "INFO:tensorflow:loss = 0.88057494, step = 700 (0.083 sec)\n",
      "INFO:tensorflow:global_step/sec: 1165.91\n",
      "INFO:tensorflow:loss = 0.57513505, step = 800 (0.086 sec)\n",
      "INFO:tensorflow:global_step/sec: 1152.5\n",
      "INFO:tensorflow:loss = 0.5447464, step = 900 (0.089 sec)\n",
      "INFO:tensorflow:global_step/sec: 1146.73\n",
      "INFO:tensorflow:loss = 0.6433903, step = 1000 (0.084 sec)\n",
      "INFO:tensorflow:global_step/sec: 1269.22\n",
      "INFO:tensorflow:loss = 0.6112125, step = 1100 (0.081 sec)\n",
      "INFO:tensorflow:global_step/sec: 1222.76\n",
      "INFO:tensorflow:loss = 0.6831221, step = 1200 (0.081 sec)\n",
      "INFO:tensorflow:global_step/sec: 1222.78\n",
      "INFO:tensorflow:loss = 0.8782445, step = 1300 (0.082 sec)\n",
      "INFO:tensorflow:global_step/sec: 1222.78\n",
      "INFO:tensorflow:loss = 0.68654287, step = 1400 (0.082 sec)\n",
      "INFO:tensorflow:global_step/sec: 1222.76\n",
      "INFO:tensorflow:loss = 0.5487927, step = 1500 (0.082 sec)\n",
      "INFO:tensorflow:global_step/sec: 1222.78\n",
      "INFO:tensorflow:loss = 0.47664827, step = 1600 (0.081 sec)\n",
      "INFO:tensorflow:global_step/sec: 1222.77\n",
      "INFO:tensorflow:loss = 0.7254701, step = 1700 (0.083 sec)\n",
      "INFO:tensorflow:global_step/sec: 1222.77\n",
      "INFO:tensorflow:loss = 0.68993336, step = 1800 (0.081 sec)\n",
      "INFO:tensorflow:global_step/sec: 1237.7\n",
      "INFO:tensorflow:loss = 0.7374445, step = 1900 (0.082 sec)\n",
      "INFO:tensorflow:global_step/sec: 1253.51\n",
      "INFO:tensorflow:loss = 0.73961383, step = 2000 (0.081 sec)\n",
      "INFO:tensorflow:global_step/sec: 1237.86\n",
      "INFO:tensorflow:loss = 0.52769375, step = 2100 (0.079 sec)\n",
      "INFO:tensorflow:global_step/sec: 1237.78\n",
      "INFO:tensorflow:loss = 0.50543797, step = 2200 (0.081 sec)\n",
      "INFO:tensorflow:global_step/sec: 1222.77\n",
      "INFO:tensorflow:loss = 0.3952545, step = 2300 (0.082 sec)\n",
      "INFO:tensorflow:global_step/sec: 1179.62\n",
      "INFO:tensorflow:loss = 0.7057833, step = 2400 (0.086 sec)\n",
      "INFO:tensorflow:global_step/sec: 1193.66\n",
      "INFO:tensorflow:loss = 0.49654657, step = 2500 (0.083 sec)\n",
      "INFO:tensorflow:global_step/sec: 1214.03\n",
      "INFO:tensorflow:loss = 0.75069714, step = 2600 (0.082 sec)\n",
      "INFO:tensorflow:global_step/sec: 1362.08\n",
      "INFO:tensorflow:loss = 0.5296456, step = 2700 (0.072 sec)\n",
      "INFO:tensorflow:global_step/sec: 1218.06\n",
      "INFO:tensorflow:loss = 0.8722765, step = 2800 (0.084 sec)\n",
      "INFO:tensorflow:global_step/sec: 1270.04\n",
      "INFO:tensorflow:loss = 0.7964823, step = 2900 (0.079 sec)\n",
      "INFO:tensorflow:global_step/sec: 1193.66\n",
      "INFO:tensorflow:loss = 0.50140995, step = 3000 (0.083 sec)\n",
      "INFO:tensorflow:global_step/sec: 1139.4\n",
      "INFO:tensorflow:loss = 0.52726585, step = 3100 (0.092 sec)\n",
      "INFO:tensorflow:global_step/sec: 911.498\n",
      "INFO:tensorflow:loss = 0.3596696, step = 3200 (0.107 sec)\n",
      "INFO:tensorflow:global_step/sec: 964.13\n",
      "INFO:tensorflow:loss = 0.42271578, step = 3300 (0.103 sec)\n",
      "INFO:tensorflow:global_step/sec: 902.665\n",
      "INFO:tensorflow:loss = 0.6857368, step = 3400 (0.112 sec)\n",
      "INFO:tensorflow:Saving checkpoints for 3460 into C:\\Users\\admin\\AppData\\Local\\Temp\\tmp3tcvulcq\\model.ckpt.\n",
      "INFO:tensorflow:Loss for final step: 0.5533641.\n"
     ]
    },
    {
     "data": {
      "text/plain": [
       "<tensorflow_estimator.python.estimator.canned.dnn.DNNClassifierV2 at 0x2327bf161c8>"
      ]
     },
     "execution_count": 100,
     "metadata": {},
     "output_type": "execute_result"
    }
   ],
   "source": [
    "dnn = tf.estimator.DNNClassifier(feature_columns=feature_columns,hidden_units=[30,10],n_classes=2)\n",
    "dnn.train(train_input_fn,steps=10000)"
   ]
  },
  {
   "cell_type": "code",
   "execution_count": 101,
   "metadata": {},
   "outputs": [
    {
     "name": "stdout",
     "output_type": "stream",
     "text": [
      "INFO:tensorflow:Calling model_fn.\n",
      "WARNING:tensorflow:Layer dnn is casting an input tensor from dtype float64 to the layer's dtype of float32, which is new behavior in TensorFlow 2.  The layer has dtype float32 because it's dtype defaults to floatx.\n",
      "\n",
      "If you intended to run this layer in float32, you can safely ignore this warning. If in doubt, this warning is likely only an issue if you are porting a TensorFlow 1.X model to TensorFlow 2.\n",
      "\n",
      "To change all layers to have dtype float64 by default, call `tf.keras.backend.set_floatx('float64')`. To change just this layer, pass dtype='float64' to the layer constructor. If you are the author of this layer, you can disable autocasting by passing autocast=False to the base Layer constructor.\n",
      "\n",
      "INFO:tensorflow:Done calling model_fn.\n",
      "INFO:tensorflow:Starting evaluation at 2020-03-14T10:42:46Z\n",
      "INFO:tensorflow:Graph was finalized.\n",
      "INFO:tensorflow:Restoring parameters from C:\\Users\\admin\\AppData\\Local\\Temp\\tmp3tcvulcq\\model.ckpt-3460\n",
      "INFO:tensorflow:Running local_init_op.\n",
      "INFO:tensorflow:Done running local_init_op.\n",
      "INFO:tensorflow:Finished evaluation at 2020-03-14-10:42:47\n",
      "INFO:tensorflow:Saving dict for global step 3460: accuracy = 0.72727275, accuracy_baseline = 0.64935064, auc = 0.8055556, auc_precision_recall = 0.69267946, average_loss = 0.5690045, global_step = 3460, label/mean = 0.35064936, loss = 0.5661642, precision = 0.61538464, prediction/mean = 0.43636614, recall = 0.5925926\n",
      "INFO:tensorflow:Saving 'checkpoint_path' summary for global step 3460: C:\\Users\\admin\\AppData\\Local\\Temp\\tmp3tcvulcq\\model.ckpt-3460\n"
     ]
    },
    {
     "data": {
      "text/plain": [
       "{'accuracy': 0.72727275,\n",
       " 'accuracy_baseline': 0.64935064,\n",
       " 'auc': 0.8055556,\n",
       " 'auc_precision_recall': 0.69267946,\n",
       " 'average_loss': 0.5690045,\n",
       " 'label/mean': 0.35064936,\n",
       " 'loss': 0.5661642,\n",
       " 'precision': 0.61538464,\n",
       " 'prediction/mean': 0.43636614,\n",
       " 'recall': 0.5925926,\n",
       " 'global_step': 3460}"
      ]
     },
     "execution_count": 101,
     "metadata": {},
     "output_type": "execute_result"
    }
   ],
   "source": [
    "dnn.evaluate(test_input_fn)"
   ]
  },
  {
   "cell_type": "code",
   "execution_count": null,
   "metadata": {},
   "outputs": [],
   "source": []
  }
 ],
 "metadata": {
  "kernelspec": {
   "display_name": "Python 3",
   "language": "python",
   "name": "python3"
  },
  "language_info": {
   "codemirror_mode": {
    "name": "ipython",
    "version": 3
   },
   "file_extension": ".py",
   "mimetype": "text/x-python",
   "name": "python",
   "nbconvert_exporter": "python",
   "pygments_lexer": "ipython3",
   "version": "3.7.4"
  }
 },
 "nbformat": 4,
 "nbformat_minor": 2
}

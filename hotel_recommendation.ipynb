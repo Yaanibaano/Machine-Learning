{
 "cells": [
  {
   "cell_type": "code",
   "execution_count": 2,
   "metadata": {},
   "outputs": [],
   "source": [
    "# content based recommendation engine\n",
    "\n",
    "from sklearn.feature_extraction.text import CountVectorizer\n",
    "from sklearn.metrics.pairwise import cosine_similarity\n",
    "import pandas as pd\n",
    "import matplotlib.pyplot as plt\n",
    "import numpy as np\n",
    "import scipy as sp"
   ]
  },
  {
   "cell_type": "code",
   "execution_count": 3,
   "metadata": {},
   "outputs": [
    {
     "name": "stdout",
     "output_type": "stream",
     "text": [
      "['are', 'girl', 'how', 'you']\n",
      "[[1 0 1 1]\n",
      " [1 1 1 1]]\n"
     ]
    }
   ],
   "source": [
    "cv = CountVectorizer()\n",
    "text = [\"how are you\",\"how are you girl\"]\n",
    "count_matrix = cv.fit_transform(text)\n",
    "print(cv.get_feature_names())\n",
    "print(count_matrix.toarray())"
   ]
  },
  {
   "cell_type": "code",
   "execution_count": 4,
   "metadata": {},
   "outputs": [
    {
     "name": "stdout",
     "output_type": "stream",
     "text": [
      "[[1.        0.8660254]\n",
      " [0.8660254 1.       ]]\n"
     ]
    }
   ],
   "source": [
    "similarity = cosine_similarity(count_matrix)\n",
    "print(similarity)"
   ]
  },
  {
   "cell_type": "code",
   "execution_count": 5,
   "metadata": {
    "scrolled": true
   },
   "outputs": [
    {
     "name": "stdout",
     "output_type": "stream",
     "text": [
      "   Unnamed: 0                                         Zomato URL  \\\n",
      "0           0  https://www.zomato.com/chennai/the-big-barbequ...   \n",
      "1           1  https://www.zomato.com/chennai/abs-absolute-ba...   \n",
      "2           2  https://www.zomato.com/chennai/mcdonalds-velac...   \n",
      "3           3  https://www.zomato.com/chennai/sukkubhai-biriy...   \n",
      "4           4  https://www.zomato.com/chennai/coal-barbecues-...   \n",
      "\n",
      "          Name of Restaurant  \\\n",
      "0           The Big Barbeque   \n",
      "1  AB's - Absolute Barbecues   \n",
      "2                 McDonald's   \n",
      "3         Sukkubhai Biriyani   \n",
      "4             Coal Barbecues   \n",
      "\n",
      "                                             Address  \\\n",
      "0   5/360, Okkiyum Thoraipakkam Rajiv Gandhi Sala...   \n",
      "1              45, GN Chetty Road, T. Nagar, Chennai   \n",
      "2   330/12, Grand Arcade, Dr Seetharaman Nagar, V...   \n",
      "3   New 14, Old 11/3Q, Railway Station Road, MKN ...   \n",
      "4    40, 2nd Floor, Bazullah Road, T. Nagar, Chennai   \n",
      "\n",
      "                       Location  \\\n",
      "0  Old Mahabalipuram Road (OMR)   \n",
      "1                      T. Nagar   \n",
      "2                     Velachery   \n",
      "3                       Alandur   \n",
      "4                      T. Nagar   \n",
      "\n",
      "                                             Cuisine  \\\n",
      "0           North Indian, Street Food, Desserts, BBQ   \n",
      "1                        BBQ, North Indian, European   \n",
      "2                                  Burger, Fast Food   \n",
      "3  Biryani, North Indian, Mughlai, Desserts, Beve...   \n",
      "4                              North Indian, Chinese   \n",
      "\n",
      "                                          Top Dishes  Price for 2  Ratings  \\\n",
      "0                         Pizza,Appam,Ice Cream Roll       1400.0  invalid   \n",
      "1  Paan Ice Cream,Fish,Prawn,Gulab Jamun,Biryani,...       1400.0      4.8   \n",
      "2  Burgers,Peri Peri Fries,French Fries,Maharaja ...        500.0      3.9   \n",
      "3  Beef Biryani,Beef Fry,Paratha,Paya,Chicken Bir...       1000.0      4.4   \n",
      "4  Chicken Honey,Pizza,Fish,Kulfi,Prawn,Chicken W...       1400.0      4.9   \n",
      "\n",
      "  No of Votes  \n",
      "0     invalid  \n",
      "1       10997  \n",
      "2         698  \n",
      "3        2625  \n",
      "4        8737  \n"
     ]
    }
   ],
   "source": [
    "df = pd.read_csv(\"C:/Users/admin/Downloads/chennai-zomato-restaurants-data/Chennai_Zomato_Data_updated.csv\")\n",
    "print(df.head())"
   ]
  },
  {
   "cell_type": "code",
   "execution_count": 6,
   "metadata": {},
   "outputs": [
    {
     "name": "stdout",
     "output_type": "stream",
     "text": [
      "0             North Indian, Street Food, Desserts, BBQ\n",
      "1                          BBQ, North Indian, European\n",
      "2                                    Burger, Fast Food\n",
      "3    Biryani, North Indian, Mughlai, Desserts, Beve...\n",
      "4                                North Indian, Chinese\n",
      "5                                              Biryani\n",
      "Name: Cuisine, dtype: object\n"
     ]
    }
   ],
   "source": [
    "print(df[\"Cuisine\"].head(6))"
   ]
  },
  {
   "cell_type": "code",
   "execution_count": 7,
   "metadata": {},
   "outputs": [
    {
     "name": "stdout",
     "output_type": "stream",
     "text": [
      "                                             Cuisine  Ratings\n",
      "0           North Indian, Street Food, Desserts, BBQ  invalid\n",
      "1                        BBQ, North Indian, European      4.8\n",
      "2                                  Burger, Fast Food      3.9\n",
      "3  Biryani, North Indian, Mughlai, Desserts, Beve...      4.4\n",
      "4                              North Indian, Chinese      4.9\n"
     ]
    }
   ],
   "source": [
    "print(df[[\"Cuisine\",\"Ratings\"]].head())"
   ]
  },
  {
   "cell_type": "code",
   "execution_count": 8,
   "metadata": {},
   "outputs": [
    {
     "name": "stdout",
     "output_type": "stream",
     "text": [
      "Index(['Unnamed: 0', 'Zomato URL', 'Name of Restaurant', 'Address', 'Location',\n",
      "       'Cuisine', 'Top Dishes', 'Price for 2', 'Ratings', 'No of Votes'],\n",
      "      dtype='object')\n"
     ]
    }
   ],
   "source": [
    "print(df.columns);"
   ]
  },
  {
   "cell_type": "code",
   "execution_count": 10,
   "metadata": {},
   "outputs": [],
   "source": [
    "c = list(df.columns)\n",
    "total = len(c)"
   ]
  },
  {
   "cell_type": "code",
   "execution_count": 11,
   "metadata": {},
   "outputs": [],
   "source": [
    "df.replace(to_replace=[\"invalid\",\"Invalid\",\",\"],value=\" \")\n",
    "def combines(row): \n",
    "    return row[\"Name of Restaurant\"]+\" \"+row['Address']+\" \" + row[\"Location\"]+\" \"+ str(row['Price for 2'])+\" \"+str(row['Ratings'])+\" \"+str(row['No of Votes'])+\" \"+row['Zomato URL']+\" \"+row['Cuisine']+\" \"+row['Top Dishes']\n",
    "#     return row['Unnamed: 0']+\" \"+row['Zomato URL']+\" \"+row['Name of Restaurant']+\" \"+row['Address']+\" \"+row['Location']+\" \"+row['Cuisine']+\" \"+row['Top Dishes']+\" \"+row['Price for 2']+\" \"+row['Ratings']+\" \"+row['No of Votes']"
   ]
  },
  {
   "cell_type": "code",
   "execution_count": 12,
   "metadata": {},
   "outputs": [],
   "source": [
    "df[\"combined\"] = df.apply(combines,axis=1)\n",
    "dv = CountVectorizer()\n",
    "count_mat = dv.fit_transform(df[\"combined\"])\n",
    "cosine_similarty = cosine_similarity(count_mat)"
   ]
  },
  {
   "cell_type": "code",
   "execution_count": 26,
   "metadata": {
    "scrolled": true
   },
   "outputs": [],
   "source": [
    "def get_title_from_index(index):\n",
    "    return df[df.index==index][\"Name of Restaurant\"].values[0]\n",
    "\n",
    "def get_index_from_title(title):\n",
    "    return df[df[\"Name of Restaurant\"]==title].index[0]"
   ]
  },
  {
   "cell_type": "code",
   "execution_count": 29,
   "metadata": {},
   "outputs": [
    {
     "name": "stdout",
     "output_type": "stream",
     "text": [
      "Galito's\n",
      "Gharwaalatiffin\n",
      "7th Heaven\n",
      "Willows\n",
      "Burger House\n",
      "Burger House\n"
     ]
    }
   ],
   "source": [
    "hotel = \"McDonald's\"\n",
    "hotel_index = get_index_from_title(hotel)\n",
    "similar_hotels = list(enumerate(cosine_similarty[hotel_index]))\n",
    "sorted_hotels = sorted(similar_hotels,key=lambda x:x[1],reverse=True)[1:]\n",
    "i=0\n",
    "# print(“Top 5 similar hotels to are:\\n”)\n",
    "for element in sorted_hotels:\n",
    "    print(get_title_from_index(element[0]))\n",
    "    i=i+1\n",
    "    if i>5:\n",
    "        break"
   ]
  },
  {
   "cell_type": "code",
   "execution_count": 36,
   "metadata": {},
   "outputs": [
    {
     "name": "stdout",
     "output_type": "stream",
     "text": [
      "      Unnamed: 0                                         Zomato URL  \\\n",
      "2915        2915           https://www.zomato.com/gharwaalatiffin-1   \n",
      "4538        4538  https://www.zomato.com/chennai/gharwaalatiffin...   \n",
      "\n",
      "     Name of Restaurant                                        Address  \\\n",
      "2915    Gharwaalatiffin                                  Delivery Only   \n",
      "4538    Gharwaalatiffin   137, Velachery Main Road, Velachery, Chennai   \n",
      "\n",
      "          Location                                      Cuisine Top Dishes  \\\n",
      "2915  Nungambakkam             Fast Food, North Indian, Chinese    Invalid   \n",
      "4538     Velachery  Biryani, North Indian, Chinese, Street Food    Invalid   \n",
      "\n",
      "      Price for 2 Ratings No of Votes  \\\n",
      "2915        500.0     3.3          32   \n",
      "4538        500.0     2.7           9   \n",
      "\n",
      "                                               combined  \n",
      "2915  Gharwaalatiffin  Delivery Only Nungambakkam 50...  \n",
      "4538  Gharwaalatiffin  137, Velachery Main Road, Vel...  \n"
     ]
    }
   ],
   "source": [
    "print(df[df[\"Name of Restaurant\"]==\"Gharwaalatiffin\"])"
   ]
  },
  {
   "cell_type": "code",
   "execution_count": null,
   "metadata": {},
   "outputs": [],
   "source": []
  }
 ],
 "metadata": {
  "kernelspec": {
   "display_name": "Python 3",
   "language": "python",
   "name": "python3"
  },
  "language_info": {
   "codemirror_mode": {
    "name": "ipython",
    "version": 3
   },
   "file_extension": ".py",
   "mimetype": "text/x-python",
   "name": "python",
   "nbconvert_exporter": "python",
   "pygments_lexer": "ipython3",
   "version": "3.7.4"
  }
 },
 "nbformat": 4,
 "nbformat_minor": 2
}

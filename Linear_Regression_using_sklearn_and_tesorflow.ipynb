{
 "cells": [
  {
   "cell_type": "markdown",
   "metadata": {},
   "source": [
    "# Linear Regression Using Tensorflow and Sklearn"
   ]
  },
  {
   "cell_type": "code",
   "execution_count": 1,
   "metadata": {},
   "outputs": [],
   "source": [
    "#Imports for tensorflow linear regression\n",
    "\n",
    "import tensorflow as tf\n",
    "import pandas as pd\n",
    "import matplotlib.pyplot as plt\n",
    "import numpy as np\n",
    "# import tensorflow.compat.v2.feature_column as fc\n",
    "import random"
   ]
  },
  {
   "cell_type": "code",
   "execution_count": 2,
   "metadata": {},
   "outputs": [],
   "source": [
    "#Loading the dataset\n",
    "\n",
    "train_set = pd.read_csv(\"https://storage.googleapis.com/tf-datasets/titanic/train.csv\")\n",
    "test_set = pd.read_csv(\"https://storage.googleapis.com/tf-datasets/titanic/eval.csv\")\n",
    "\n",
    "#Seperating Features and Labels\n",
    "\n",
    "train_label_set = train_set.pop(\"survived\")\n",
    "test_label_set = test_set.pop(\"survived\")"
   ]
  },
  {
   "cell_type": "code",
   "execution_count": 3,
   "metadata": {},
   "outputs": [
    {
     "data": {
      "text/plain": [
       "<matplotlib.axes._subplots.AxesSubplot at 0x1e6ac58cbc8>"
      ]
     },
     "execution_count": 3,
     "metadata": {},
     "output_type": "execute_result"
    },
    {
     "data": {
      "image/png": "[encoded data removed]",
      "text/plain": [
       "<Figure size 432x288 with 1 Axes>"
      ]
     },
     "metadata": {
      "needs_background": "light"
     },
     "output_type": "display_data"
    }
   ],
   "source": [
    "#Inference from data\n",
    "\n",
    "train_set.describe() #describes the data\n",
    "train_set[\"age\"].hist(bins=20) #Gives a histogram representation\n",
    "train_set[\"sex\"].value_counts().plot(kind=\"bar\") #Counts the total number of men and women and plots them ,barh = barchart along horizontal axis"
   ]
  },
  {
   "cell_type": "markdown",
   "metadata": {},
   "source": [
    "# PreProcessing of data"
   ]
  },
  {
   "cell_type": "markdown",
   "metadata": {},
   "source": [
    "### the content of columns should be encoded with numerical values before using it for training"
   ]
  },
  {
   "cell_type": "code",
   "execution_count": 5,
   "metadata": {},
   "outputs": [
    {
     "name": "stdout",
     "output_type": "stream",
     "text": [
      "VocabularyListCategoricalColumn(key='sex', vocabulary_list=('male', 'female'), dtype=tf.string, default_value=-1, num_oov_buckets=0)\n"
     ]
    }
   ],
   "source": [
    "categorical = [\"sex\",\"n_siblings_spouses\",\"parch\",\"class\",\"deck\",\"embark_town\",\"alone\"] #catogorical column are those columns whose data are repeated lke male or female\n",
    "numerical = [\"age\",\"fare\"] #they mostly have unique and random values\n",
    "feature_columns=[]\n",
    "\n",
    "for feature_name in categorical:\n",
    "    vocabulary = train_set[feature_name].unique() #returns unique values in the given column\n",
    "    feature_columns.append(tf.feature_column.categorical_column_with_vocabulary_list(feature_name,vocabulary))\n",
    "\n",
    "for feature_name in numerical:\n",
    "    feature_columns.append(tf.feature_column.numeric_column(feature_name,dtype=tf.float32))\n",
    "\n",
    "#feature columns that is going to be passed should be a list of tf.feature_columns objects either categorical columns or numerical columns data object \n",
    "    \n",
    "print(feature_columns[0])    "
   ]
  },
  {
   "cell_type": "code",
   "execution_count": 6,
   "metadata": {},
   "outputs": [],
   "source": [
    "#the input for tf.estimator.LinearClassifier or LinearRegression model should be a function which returns a tf.data.Dataset object\n",
    "\n",
    "def make_input_fn(feature_df,label_df,shuffle = True,num_of_epochs=10,batch_size=32):\n",
    "    def input_fn():\n",
    "        ds = tf.data.Dataset.from_tensor_slices((dict(feature_df),label_df))\n",
    "        if shuffle:\n",
    "            ds.shuffle(1000)\n",
    "        ds = ds.batch(batch_size).repeat(num_of_epochs)\n",
    "        return ds\n",
    "    return input_fn\n",
    "\n",
    "train_input_fn = make_input_fn(train_set,train_label_set)\n",
    "test_input_set = make_input_fn(test_set,test_label_set)"
   ]
  },
  {
   "cell_type": "code",
   "execution_count": 7,
   "metadata": {},
   "outputs": [
    {
     "name": "stdout",
     "output_type": "stream",
     "text": [
      "INFO:tensorflow:Using default config.\n",
      "WARNING:tensorflow:Using temporary folder as model directory: C:\\Users\\admin\\AppData\\Local\\Temp\\tmp0lc7v2ao\n",
      "INFO:tensorflow:Using config: {'_model_dir': 'C:\\\\Users\\\\admin\\\\AppData\\\\Local\\\\Temp\\\\tmp0lc7v2ao', '_tf_random_seed': None, '_save_summary_steps': 100, '_save_checkpoints_steps': None, '_save_checkpoints_secs': 600, '_session_config': allow_soft_placement: true\n",
      "graph_options {\n",
      "  rewrite_options {\n",
      "    meta_optimizer_iterations: ONE\n",
      "  }\n",
      "}\n",
      ", '_keep_checkpoint_max': 5, '_keep_checkpoint_every_n_hours': 10000, '_log_step_count_steps': 100, '_train_distribute': None, '_device_fn': None, '_protocol': None, '_eval_distribute': None, '_experimental_distribute': None, '_experimental_max_worker_delay_secs': None, '_session_creation_timeout_secs': 7200, '_service': None, '_cluster_spec': <tensorflow.python.training.server_lib.ClusterSpec object at 0x000001E6AD9D0C08>, '_task_type': 'worker', '_task_id': 0, '_global_id_in_cluster': 0, '_master': '', '_evaluation_master': '', '_is_chief': True, '_num_ps_replicas': 0, '_num_worker_replicas': 1}\n"
     ]
    }
   ],
   "source": [
    "#loading the tensorflow linear regression model\n",
    "linear_regression_model = tf.estimator.LinearClassifier(feature_columns = feature_columns)"
   ]
  },
  {
   "cell_type": "code",
   "execution_count": 8,
   "metadata": {},
   "outputs": [
    {
     "name": "stdout",
     "output_type": "stream",
     "text": [
      "WARNING:tensorflow:From D:\\Anaconda\\lib\\site-packages\\tensorflow_core\\python\\ops\\resource_variable_ops.py:1630: calling BaseResourceVariable.__init__ (from tensorflow.python.ops.resource_variable_ops) with constraint is deprecated and will be removed in a future version.\n",
      "Instructions for updating:\n",
      "If using Keras pass *_constraint arguments to layers.\n",
      "WARNING:tensorflow:From D:\\Anaconda\\lib\\site-packages\\tensorflow_core\\python\\training\\training_util.py:236: Variable.initialized_value (from tensorflow.python.ops.variables) is deprecated and will be removed in a future version.\n",
      "Instructions for updating:\n",
      "Use Variable.read_value. Variables in 2.X are initialized automatically both in eager and graph (inside tf.defun) contexts.\n",
      "INFO:tensorflow:Calling model_fn.\n",
      "WARNING:tensorflow:Layer linear/linear_model is casting an input tensor from dtype float64 to the layer's dtype of float32, which is new behavior in TensorFlow 2.  The layer has dtype float32 because it's dtype defaults to floatx.\n",
      "\n",
      "If you intended to run this layer in float32, you can safely ignore this warning. If in doubt, this warning is likely only an issue if you are porting a TensorFlow 1.X model to TensorFlow 2.\n",
      "\n",
      "To change all layers to have dtype float64 by default, call `tf.keras.backend.set_floatx('float64')`. To change just this layer, pass dtype='float64' to the layer constructor. If you are the author of this layer, you can disable autocasting by passing autocast=False to the base Layer constructor.\n",
      "\n",
      "WARNING:tensorflow:From D:\\Anaconda\\lib\\site-packages\\tensorflow_core\\python\\feature_column\\feature_column_v2.py:518: Layer.add_variable (from tensorflow.python.keras.engine.base_layer) is deprecated and will be removed in a future version.\n",
      "Instructions for updating:\n",
      "Please use `layer.add_weight` method instead.\n",
      "WARNING:tensorflow:From D:\\Anaconda\\lib\\site-packages\\tensorflow_estimator\\python\\estimator\\canned\\linear.py:308: to_float (from tensorflow.python.ops.math_ops) is deprecated and will be removed in a future version.\n",
      "Instructions for updating:\n",
      "Use `tf.cast` instead.\n",
      "WARNING:tensorflow:From D:\\Anaconda\\lib\\site-packages\\tensorflow_core\\python\\keras\\optimizer_v2\\ftrl.py:143: calling Constant.__init__ (from tensorflow.python.ops.init_ops) with dtype is deprecated and will be removed in a future version.\n",
      "Instructions for updating:\n",
      "Call initializer instance with the dtype argument instead of passing it to the constructor\n",
      "INFO:tensorflow:Done calling model_fn.\n",
      "INFO:tensorflow:Create CheckpointSaverHook.\n",
      "INFO:tensorflow:Graph was finalized.\n",
      "INFO:tensorflow:Running local_init_op.\n",
      "INFO:tensorflow:Done running local_init_op.\n",
      "INFO:tensorflow:Saving checkpoints for 0 into C:\\Users\\admin\\AppData\\Local\\Temp\\tmp0lc7v2ao\\model.ckpt.\n",
      "INFO:tensorflow:loss = 0.6931472, step = 0\n",
      "INFO:tensorflow:global_step/sec: 204.158\n",
      "INFO:tensorflow:loss = 0.5094317, step = 100 (0.491 sec)\n",
      "INFO:tensorflow:Saving checkpoints for 200 into C:\\Users\\admin\\AppData\\Local\\Temp\\tmp0lc7v2ao\\model.ckpt.\n",
      "INFO:tensorflow:Loss for final step: 0.33182767.\n",
      "INFO:tensorflow:Calling model_fn.\n",
      "WARNING:tensorflow:Layer linear/linear_model is casting an input tensor from dtype float64 to the layer's dtype of float32, which is new behavior in TensorFlow 2.  The layer has dtype float32 because it's dtype defaults to floatx.\n",
      "\n",
      "If you intended to run this layer in float32, you can safely ignore this warning. If in doubt, this warning is likely only an issue if you are porting a TensorFlow 1.X model to TensorFlow 2.\n",
      "\n",
      "To change all layers to have dtype float64 by default, call `tf.keras.backend.set_floatx('float64')`. To change just this layer, pass dtype='float64' to the layer constructor. If you are the author of this layer, you can disable autocasting by passing autocast=False to the base Layer constructor.\n",
      "\n",
      "INFO:tensorflow:Done calling model_fn.\n",
      "INFO:tensorflow:Starting evaluation at 2020-03-14T10:28:38Z\n",
      "INFO:tensorflow:Graph was finalized.\n",
      "INFO:tensorflow:Restoring parameters from C:\\Users\\admin\\AppData\\Local\\Temp\\tmp0lc7v2ao\\model.ckpt-200\n",
      "INFO:tensorflow:Running local_init_op.\n",
      "INFO:tensorflow:Done running local_init_op.\n",
      "INFO:tensorflow:Finished evaluation at 2020-03-14-10:28:39\n",
      "INFO:tensorflow:Saving dict for global step 200: accuracy = 0.7613636, accuracy_baseline = 0.625, auc = 0.8341904, auc_precision_recall = 0.77589166, average_loss = 0.47604212, global_step = 200, label/mean = 0.375, loss = 0.46585375, precision = 0.6875, prediction/mean = 0.3594817, recall = 0.6666667\n",
      "INFO:tensorflow:Saving 'checkpoint_path' summary for global step 200: C:\\Users\\admin\\AppData\\Local\\Temp\\tmp0lc7v2ao\\model.ckpt-200\n",
      "{'accuracy': 0.7613636, 'accuracy_baseline': 0.625, 'auc': 0.8341904, 'auc_precision_recall': 0.77589166, 'average_loss': 0.47604212, 'label/mean': 0.375, 'loss': 0.46585375, 'precision': 0.6875, 'prediction/mean': 0.3594817, 'recall': 0.6666667, 'global_step': 200}\n"
     ]
    }
   ],
   "source": [
    "#Training the model \n",
    "linear_regression_model.train(train_input_fn)\n",
    "\n",
    "#testing the model\n",
    "result = linear_regression_model.evaluate(test_input_set)\n",
    "\n",
    "print(result)"
   ]
  },
  {
   "cell_type": "code",
   "execution_count": 9,
   "metadata": {},
   "outputs": [
    {
     "name": "stdout",
     "output_type": "stream",
     "text": [
      "0.7613636\n"
     ]
    }
   ],
   "source": [
    "print(result[\"accuracy\"])"
   ]
  },
  {
   "cell_type": "code",
   "execution_count": 10,
   "metadata": {},
   "outputs": [
    {
     "name": "stdout",
     "output_type": "stream",
     "text": [
      "INFO:tensorflow:Calling model_fn.\n",
      "WARNING:tensorflow:Layer linear/linear_model is casting an input tensor from dtype float64 to the layer's dtype of float32, which is new behavior in TensorFlow 2.  The layer has dtype float32 because it's dtype defaults to floatx.\n",
      "\n",
      "If you intended to run this layer in float32, you can safely ignore this warning. If in doubt, this warning is likely only an issue if you are porting a TensorFlow 1.X model to TensorFlow 2.\n",
      "\n",
      "To change all layers to have dtype float64 by default, call `tf.keras.backend.set_floatx('float64')`. To change just this layer, pass dtype='float64' to the layer constructor. If you are the author of this layer, you can disable autocasting by passing autocast=False to the base Layer constructor.\n",
      "\n",
      "INFO:tensorflow:Done calling model_fn.\n",
      "INFO:tensorflow:Graph was finalized.\n",
      "INFO:tensorflow:Restoring parameters from C:\\Users\\admin\\AppData\\Local\\Temp\\tmp0lc7v2ao\\model.ckpt-200\n",
      "INFO:tensorflow:Running local_init_op.\n",
      "INFO:tensorflow:Done running local_init_op.\n"
     ]
    }
   ],
   "source": [
    "#Predicting\n",
    "\n",
    "predicted = list(linear_regression_model.predict(test_input_set))"
   ]
  },
  {
   "cell_type": "code",
   "execution_count": 11,
   "metadata": {},
   "outputs": [
    {
     "data": {
      "text/plain": [
       "<matplotlib.axes._subplots.AxesSubplot at 0x1e6adde2348>"
      ]
     },
     "execution_count": 11,
     "metadata": {},
     "output_type": "execute_result"
    },
    {
     "data": {
      "image/png": "[encoded data removed]",
      "text/plain": [
       "<Figure size 432x288 with 1 Axes>"
      ]
     },
     "metadata": {
      "needs_background": "light"
     },
     "output_type": "display_data"
    }
   ],
   "source": [
    "probs = pd.Series([pred[\"probabilities\"][0] for pred in predicted])\n",
    "probs.plot(kind=\"hist\",bins=20)"
   ]
  },
  {
   "cell_type": "markdown",
   "metadata": {},
   "source": [
    "# Linear Regression Implementation using Sklearn"
   ]
  },
  {
   "cell_type": "code",
   "execution_count": 13,
   "metadata": {},
   "outputs": [],
   "source": [
    "#implementing linear regression using scikit_learn\n",
    "\n",
    "from sklearn.model_selection import train_test_split\n",
    "from sklearn.linear_model import LinearRegression\n",
    "from sklearn.preprocessing import OrdinalEncoder"
   ]
  },
  {
   "cell_type": "code",
   "execution_count": 14,
   "metadata": {},
   "outputs": [
    {
     "name": "stdout",
     "output_type": "stream",
     "text": [
      "     sex   age     fare  class  deck  embark_town  alone\n",
      "308    1  28.0   7.7500      2     0            0      0\n",
      "437    1  28.0   7.0500      2     0            1      0\n",
      "156    1  22.0   7.2500      2     0            1      0\n",
      "375    1  28.0   7.2292      2     0            2      0\n",
      "161    1  30.0  10.5000      1     0            1      0\n"
     ]
    },
    {
     "name": "stderr",
     "output_type": "stream",
     "text": [
      "D:\\Anaconda\\lib\\site-packages\\ipykernel_launcher.py:19: SettingWithCopyWarning: \n",
      "A value is trying to be set on a copy of a slice from a DataFrame.\n",
      "Try using .loc[row_indexer,col_indexer] = value instead\n",
      "\n",
      "See the caveats in the documentation: http://pandas.pydata.org/pandas-docs/stable/user_guide/indexing.html#returning-a-view-versus-a-copy\n",
      "D:\\Anaconda\\lib\\site-packages\\ipykernel_launcher.py:20: SettingWithCopyWarning: \n",
      "A value is trying to be set on a copy of a slice from a DataFrame.\n",
      "Try using .loc[row_indexer,col_indexer] = value instead\n",
      "\n",
      "See the caveats in the documentation: http://pandas.pydata.org/pandas-docs/stable/user_guide/indexing.html#returning-a-view-versus-a-copy\n",
      "D:\\Anaconda\\lib\\site-packages\\ipykernel_launcher.py:21: SettingWithCopyWarning: \n",
      "A value is trying to be set on a copy of a slice from a DataFrame.\n",
      "Try using .loc[row_indexer,col_indexer] = value instead\n",
      "\n",
      "See the caveats in the documentation: http://pandas.pydata.org/pandas-docs/stable/user_guide/indexing.html#returning-a-view-versus-a-copy\n",
      "D:\\Anaconda\\lib\\site-packages\\ipykernel_launcher.py:22: SettingWithCopyWarning: \n",
      "A value is trying to be set on a copy of a slice from a DataFrame.\n",
      "Try using .loc[row_indexer,col_indexer] = value instead\n",
      "\n",
      "See the caveats in the documentation: http://pandas.pydata.org/pandas-docs/stable/user_guide/indexing.html#returning-a-view-versus-a-copy\n",
      "D:\\Anaconda\\lib\\site-packages\\ipykernel_launcher.py:23: SettingWithCopyWarning: \n",
      "A value is trying to be set on a copy of a slice from a DataFrame.\n",
      "Try using .loc[row_indexer,col_indexer] = value instead\n",
      "\n",
      "See the caveats in the documentation: http://pandas.pydata.org/pandas-docs/stable/user_guide/indexing.html#returning-a-view-versus-a-copy\n"
     ]
    }
   ],
   "source": [
    "\n",
    "x_train,x_test,y_train,y_test = train_test_split(train_set,train_label_set,test_size=0.3,random_state=101)\n",
    "\n",
    "#for encoding the test data\n",
    "oc = OrdinalEncoder()\n",
    "\n",
    "#dictionary for mapping the unique value to numeric values\n",
    "sex = {\"male\":1,\"female\":0}\n",
    "classy = {'First':0,\"Second\":1,\"Third\":2}\n",
    "decky = {'unknown':0 ,'D':1 ,'E':2 ,'B':3 ,'C':4 ,'A':5 ,'F':6 ,'G':7}\n",
    "embark_town = {'Queenstown':0,'Southampton':1,'Cherbourg':2}\n",
    "alone={\"y\":0,\"n\":1}\n",
    "\n",
    "x_train[\"sex\"] = x_train[\"sex\"].map(sex)\n",
    "x_train[\"class\"] = x_train[\"class\"].map(classy)\n",
    "x_train[\"deck\"] = x_train[\"deck\"].map(decky)\n",
    "x_train[\"embark_town\"] = x_train[\"embark_town\"].map(embark_town)\n",
    "x_train[\"alone\"] = x_train[\"alone\"].map(alone)\n",
    "\n",
    "x_train = x_train.drop(columns=['n_siblings_spouses','parch'])#Dropping the useless feature\n",
    "\n",
    "print(x_train.head())"
   ]
  },
  {
   "cell_type": "code",
   "execution_count": 15,
   "metadata": {},
   "outputs": [
    {
     "data": {
      "text/plain": [
       "LinearRegression(copy_X=True, fit_intercept=True, n_jobs=None, normalize=False)"
      ]
     },
     "execution_count": 15,
     "metadata": {},
     "output_type": "execute_result"
    }
   ],
   "source": [
    "linear_reg_model = LinearRegression()\n",
    "linear_reg_model.fit(x_train,y_train)#fitting the linear regression line according to the given training dataset"
   ]
  },
  {
   "cell_type": "code",
   "execution_count": 16,
   "metadata": {},
   "outputs": [
    {
     "data": {
      "text/plain": [
       "LinearRegression(copy_X=True, fit_intercept=True, n_jobs=1, normalize=True)"
      ]
     },
     "execution_count": 16,
     "metadata": {},
     "output_type": "execute_result"
    }
   ],
   "source": [
    "LinearRegression(copy_X=True, fit_intercept=True, n_jobs=1, normalize=True)#changing the parameters to improve performances"
   ]
  },
  {
   "cell_type": "code",
   "execution_count": 17,
   "metadata": {},
   "outputs": [
    {
     "data": {
      "text/plain": [
       "array([-5.63259954e-01, -2.59678377e-03,  3.42043855e-05, -1.28198019e-01,\n",
       "        1.18753139e-02,  5.43163465e-02,  4.57303606e-03])"
      ]
     },
     "execution_count": 17,
     "metadata": {},
     "output_type": "execute_result"
    }
   ],
   "source": [
    "linear_reg_model.coef_ #getting the m and c value for the line"
   ]
  },
  {
   "cell_type": "code",
   "execution_count": 18,
   "metadata": {},
   "outputs": [],
   "source": [
    "#Predicting\n",
    "from sklearn.metrics import accuracy_score\n",
    "\n",
    "#mapping the test side(encoding)\n",
    "test_set[\"sex\"] = test_set[\"sex\"].map(sex)\n",
    "test_set[\"class\"] = test_set[\"class\"].map(classy)\n",
    "test_set[\"deck\"] = test_set[\"deck\"].map(decky)\n",
    "test_set[\"embark_town\"] = test_set[\"embark_town\"].map(embark_town)\n",
    "test_set[\"alone\"] = test_set[\"alone\"].map(alone)"
   ]
  },
  {
   "cell_type": "code",
   "execution_count": 31,
   "metadata": {},
   "outputs": [],
   "source": [
    "def activation_fn(f):\n",
    "    if 1 > f > 0.5:\n",
    "        return 1\n",
    "    elif f < 0.5 :\n",
    "        return 0;\n",
    "    else:\n",
    "        return \"error\""
   ]
  },
  {
   "cell_type": "code",
   "execution_count": 34,
   "metadata": {},
   "outputs": [
    {
     "name": "stdout",
     "output_type": "stream",
     "text": [
      "     sex   age     fare  class  deck  embark_town  alone\n",
      "0      1  35.0   8.0500      2     0          1.0      0\n",
      "1      1  54.0  51.8625      0     2          1.0      0\n",
      "2      0  58.0  26.5500      0     4          1.0      0\n",
      "3      0  55.0  16.0000      1     0          1.0      0\n",
      "4      1  34.0  13.0000      1     1          1.0      0\n",
      "..   ...   ...      ...    ...   ...          ...    ...\n",
      "259    0  25.0  26.0000      1     0          1.0      1\n",
      "260    1  33.0   7.8958      2     0          1.0      0\n",
      "261    0  39.0  29.1250      2     0          0.0      1\n",
      "262    1  27.0  13.0000      1     0          1.0      0\n",
      "263    1  26.0  30.0000      0     4          2.0      0\n",
      "\n",
      "[264 rows x 7 columns]\n",
      "[0.07683089 0.30913724 0.88489489 0.71662511 0.21967031]\n",
      "0    0\n",
      "1    0\n",
      "2    1\n",
      "3    1\n",
      "4    1\n",
      "Name: survived, dtype: int64\n",
      "   sex   age     fare  class  deck  embark_town  alone\n",
      "0    1  35.0   8.0500      2     0          1.0      0\n",
      "1    1  54.0  51.8625      0     2          1.0      0\n",
      "2    0  58.0  26.5500      0     4          1.0      0\n",
      "3    0  55.0  16.0000      1     0          1.0      0\n",
      "4    1  34.0  13.0000      1     1          1.0      0\n",
      "[0, 0, 1, 1, 0]\n",
      "0.8\n"
     ]
    }
   ],
   "source": [
    "print(test_set)\n",
    "predicted_label = linear_reg_model.predict(test_set.head())\n",
    "print(predicted_label)\n",
    "print(test_label_set.head())\n",
    "print(test_set.head())\n",
    "print(list(map(activation_fn,predicted_label)))\n",
    "accuracy = accuracy_score(list(map(activation_fn,predicted_label)),test_label_set.head())\n",
    "print(accuracy)"
   ]
  },
  {
   "cell_type": "code",
   "execution_count": null,
   "metadata": {},
   "outputs": [],
   "source": []
  }
 ],
 "metadata": {
  "kernelspec": {
   "display_name": "Python 3",
   "language": "python",
   "name": "python3"
  },
  "language_info": {
   "codemirror_mode": {
    "name": "ipython",
    "version": 3
   },
   "file_extension": ".py",
   "mimetype": "text/x-python",
   "name": "python",
   "nbconvert_exporter": "python",
   "pygments_lexer": "ipython3",
   "version": "3.7.4"
  }
 },
 "nbformat": 4,
 "nbformat_minor": 2
}
